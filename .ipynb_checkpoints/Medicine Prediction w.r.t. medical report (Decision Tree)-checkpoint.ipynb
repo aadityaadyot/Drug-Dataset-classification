{
 "cells": [
  {
   "cell_type": "code",
   "execution_count": 72,
   "id": "1ec8fac8",
   "metadata": {},
   "outputs": [],
   "source": [
    "import pandas as pd\n",
    "import numpy as np\n",
    "import seaborn as sns\n",
    "import matplotlib.pyplot as plt\n",
    "%matplotlib inline\n",
    "import warnings\n",
    "warnings.filterwarnings('ignore')"
   ]
  },
  {
   "cell_type": "code",
   "execution_count": 73,
   "id": "20d7c856",
   "metadata": {},
   "outputs": [
    {
     "data": {
      "text/plain": [
       "'ascii'"
      ]
     },
     "execution_count": 73,
     "metadata": {},
     "output_type": "execute_result"
    }
   ],
   "source": [
    "# To check the file encoding using Chardet package\n",
    "import chardet\n",
    "with open('Data\\drug.csv', 'rb') as f:\n",
    "    result = chardet.detect(f.read())\n",
    "result['encoding']"
   ]
  },
  {
   "cell_type": "code",
   "execution_count": 74,
   "id": "2108d5ff",
   "metadata": {},
   "outputs": [],
   "source": [
    "#Loading the file\n",
    "df = pd.read_csv('Data\\drug.csv', encoding= 'ascii')"
   ]
  },
  {
   "cell_type": "code",
   "execution_count": 75,
   "id": "d03201ac",
   "metadata": {},
   "outputs": [
    {
     "data": {
      "text/html": [
       "<div>\n",
       "<style scoped>\n",
       "    .dataframe tbody tr th:only-of-type {\n",
       "        vertical-align: middle;\n",
       "    }\n",
       "\n",
       "    .dataframe tbody tr th {\n",
       "        vertical-align: top;\n",
       "    }\n",
       "\n",
       "    .dataframe thead th {\n",
       "        text-align: right;\n",
       "    }\n",
       "</style>\n",
       "<table border=\"1\" class=\"dataframe\">\n",
       "  <thead>\n",
       "    <tr style=\"text-align: right;\">\n",
       "      <th></th>\n",
       "      <th>Age</th>\n",
       "      <th>Sex</th>\n",
       "      <th>BP</th>\n",
       "      <th>Cholesterol</th>\n",
       "      <th>Na_to_K</th>\n",
       "      <th>Drug</th>\n",
       "    </tr>\n",
       "  </thead>\n",
       "  <tbody>\n",
       "    <tr>\n",
       "      <th>0</th>\n",
       "      <td>23</td>\n",
       "      <td>F</td>\n",
       "      <td>HIGH</td>\n",
       "      <td>HIGH</td>\n",
       "      <td>25.355</td>\n",
       "      <td>drugY</td>\n",
       "    </tr>\n",
       "    <tr>\n",
       "      <th>1</th>\n",
       "      <td>47</td>\n",
       "      <td>M</td>\n",
       "      <td>LOW</td>\n",
       "      <td>HIGH</td>\n",
       "      <td>13.093</td>\n",
       "      <td>drugC</td>\n",
       "    </tr>\n",
       "    <tr>\n",
       "      <th>2</th>\n",
       "      <td>47</td>\n",
       "      <td>M</td>\n",
       "      <td>LOW</td>\n",
       "      <td>HIGH</td>\n",
       "      <td>10.114</td>\n",
       "      <td>drugC</td>\n",
       "    </tr>\n",
       "    <tr>\n",
       "      <th>3</th>\n",
       "      <td>28</td>\n",
       "      <td>F</td>\n",
       "      <td>NORMAL</td>\n",
       "      <td>HIGH</td>\n",
       "      <td>7.798</td>\n",
       "      <td>drugX</td>\n",
       "    </tr>\n",
       "    <tr>\n",
       "      <th>4</th>\n",
       "      <td>61</td>\n",
       "      <td>F</td>\n",
       "      <td>LOW</td>\n",
       "      <td>HIGH</td>\n",
       "      <td>18.043</td>\n",
       "      <td>drugY</td>\n",
       "    </tr>\n",
       "  </tbody>\n",
       "</table>\n",
       "</div>"
      ],
      "text/plain": [
       "   Age Sex      BP Cholesterol  Na_to_K   Drug\n",
       "0   23   F    HIGH        HIGH   25.355  drugY\n",
       "1   47   M     LOW        HIGH   13.093  drugC\n",
       "2   47   M     LOW        HIGH   10.114  drugC\n",
       "3   28   F  NORMAL        HIGH    7.798  drugX\n",
       "4   61   F     LOW        HIGH   18.043  drugY"
      ]
     },
     "execution_count": 75,
     "metadata": {},
     "output_type": "execute_result"
    }
   ],
   "source": [
    "#checking the top entried in the dataset\n",
    "df.head()"
   ]
  },
  {
   "cell_type": "code",
   "execution_count": 76,
   "id": "c6cafd97",
   "metadata": {},
   "outputs": [
    {
     "data": {
      "text/html": [
       "<div>\n",
       "<style scoped>\n",
       "    .dataframe tbody tr th:only-of-type {\n",
       "        vertical-align: middle;\n",
       "    }\n",
       "\n",
       "    .dataframe tbody tr th {\n",
       "        vertical-align: top;\n",
       "    }\n",
       "\n",
       "    .dataframe thead th {\n",
       "        text-align: right;\n",
       "    }\n",
       "</style>\n",
       "<table border=\"1\" class=\"dataframe\">\n",
       "  <thead>\n",
       "    <tr style=\"text-align: right;\">\n",
       "      <th></th>\n",
       "      <th>Age</th>\n",
       "      <th>Sex</th>\n",
       "      <th>BP</th>\n",
       "      <th>Cholesterol</th>\n",
       "      <th>Na_to_K</th>\n",
       "      <th>Drug</th>\n",
       "    </tr>\n",
       "  </thead>\n",
       "  <tbody>\n",
       "    <tr>\n",
       "      <th>195</th>\n",
       "      <td>56</td>\n",
       "      <td>F</td>\n",
       "      <td>LOW</td>\n",
       "      <td>HIGH</td>\n",
       "      <td>11.567</td>\n",
       "      <td>drugC</td>\n",
       "    </tr>\n",
       "    <tr>\n",
       "      <th>196</th>\n",
       "      <td>16</td>\n",
       "      <td>M</td>\n",
       "      <td>LOW</td>\n",
       "      <td>HIGH</td>\n",
       "      <td>12.006</td>\n",
       "      <td>drugC</td>\n",
       "    </tr>\n",
       "    <tr>\n",
       "      <th>197</th>\n",
       "      <td>52</td>\n",
       "      <td>M</td>\n",
       "      <td>NORMAL</td>\n",
       "      <td>HIGH</td>\n",
       "      <td>9.894</td>\n",
       "      <td>drugX</td>\n",
       "    </tr>\n",
       "    <tr>\n",
       "      <th>198</th>\n",
       "      <td>23</td>\n",
       "      <td>M</td>\n",
       "      <td>NORMAL</td>\n",
       "      <td>NORMAL</td>\n",
       "      <td>14.020</td>\n",
       "      <td>drugX</td>\n",
       "    </tr>\n",
       "    <tr>\n",
       "      <th>199</th>\n",
       "      <td>40</td>\n",
       "      <td>F</td>\n",
       "      <td>LOW</td>\n",
       "      <td>NORMAL</td>\n",
       "      <td>11.349</td>\n",
       "      <td>drugX</td>\n",
       "    </tr>\n",
       "  </tbody>\n",
       "</table>\n",
       "</div>"
      ],
      "text/plain": [
       "     Age Sex      BP Cholesterol  Na_to_K   Drug\n",
       "195   56   F     LOW        HIGH   11.567  drugC\n",
       "196   16   M     LOW        HIGH   12.006  drugC\n",
       "197   52   M  NORMAL        HIGH    9.894  drugX\n",
       "198   23   M  NORMAL      NORMAL   14.020  drugX\n",
       "199   40   F     LOW      NORMAL   11.349  drugX"
      ]
     },
     "execution_count": 76,
     "metadata": {},
     "output_type": "execute_result"
    }
   ],
   "source": [
    "df.tail()"
   ]
  },
  {
   "cell_type": "code",
   "execution_count": 77,
   "id": "be634499",
   "metadata": {},
   "outputs": [
    {
     "name": "stdout",
     "output_type": "stream",
     "text": [
      "<class 'pandas.core.frame.DataFrame'>\n",
      "RangeIndex: 200 entries, 0 to 199\n",
      "Data columns (total 6 columns):\n",
      " #   Column       Non-Null Count  Dtype  \n",
      "---  ------       --------------  -----  \n",
      " 0   Age          200 non-null    int64  \n",
      " 1   Sex          200 non-null    object \n",
      " 2   BP           200 non-null    object \n",
      " 3   Cholesterol  200 non-null    object \n",
      " 4   Na_to_K      200 non-null    float64\n",
      " 5   Drug         200 non-null    object \n",
      "dtypes: float64(1), int64(1), object(4)\n",
      "memory usage: 9.5+ KB\n"
     ]
    }
   ],
   "source": [
    "df.info()"
   ]
  },
  {
   "cell_type": "code",
   "execution_count": 78,
   "id": "496aaead",
   "metadata": {},
   "outputs": [
    {
     "data": {
      "text/plain": [
       "0"
      ]
     },
     "execution_count": 78,
     "metadata": {},
     "output_type": "execute_result"
    }
   ],
   "source": [
    "df.duplicated().sum()"
   ]
  },
  {
   "cell_type": "code",
   "execution_count": 79,
   "id": "5eb438fc",
   "metadata": {},
   "outputs": [
    {
     "data": {
      "text/plain": [
       "[]"
      ]
     },
     "execution_count": 79,
     "metadata": {},
     "output_type": "execute_result"
    }
   ],
   "source": [
    "#to check the null values in the dataset\n",
    "[feature for feature in df.columns if df[feature].isnull().sum()!=0]"
   ]
  },
  {
   "cell_type": "code",
   "execution_count": 80,
   "id": "67a1d69b",
   "metadata": {},
   "outputs": [
    {
     "data": {
      "text/plain": [
       "array([23, 47, 28, 61, 22, 49, 41, 60, 43, 34, 74, 50, 16, 69, 32, 57, 63,\n",
       "       48, 33, 31, 39, 45, 18, 65, 53, 46, 15, 73, 58, 66, 37, 68, 67, 62,\n",
       "       24, 26, 40, 38, 29, 17, 54, 70, 36, 19, 64, 59, 51, 42, 56, 20, 72,\n",
       "       35, 52, 55, 30, 21, 25], dtype=int64)"
      ]
     },
     "execution_count": 80,
     "metadata": {},
     "output_type": "execute_result"
    }
   ],
   "source": [
    "df['Age'].unique()"
   ]
  },
  {
   "cell_type": "code",
   "execution_count": 81,
   "id": "396d89f7",
   "metadata": {},
   "outputs": [],
   "source": [
    "#Age is between 15-74 years"
   ]
  },
  {
   "cell_type": "code",
   "execution_count": 82,
   "id": "9e428754",
   "metadata": {},
   "outputs": [
    {
     "data": {
      "text/plain": [
       "array(['HIGH', 'LOW', 'NORMAL'], dtype=object)"
      ]
     },
     "execution_count": 82,
     "metadata": {},
     "output_type": "execute_result"
    }
   ],
   "source": [
    "df['BP'].unique()"
   ]
  },
  {
   "cell_type": "code",
   "execution_count": 83,
   "id": "9c06dbd9",
   "metadata": {},
   "outputs": [
    {
     "data": {
      "text/plain": [
       "array(['HIGH', 'NORMAL'], dtype=object)"
      ]
     },
     "execution_count": 83,
     "metadata": {},
     "output_type": "execute_result"
    }
   ],
   "source": [
    "df['Cholesterol'].unique()"
   ]
  },
  {
   "cell_type": "code",
   "execution_count": 84,
   "id": "7fcc1733",
   "metadata": {},
   "outputs": [
    {
     "data": {
      "text/plain": [
       "array(['drugY', 'drugC', 'drugX', 'drugA', 'drugB'], dtype=object)"
      ]
     },
     "execution_count": 84,
     "metadata": {},
     "output_type": "execute_result"
    }
   ],
   "source": [
    "df['Drug'].unique()"
   ]
  },
  {
   "cell_type": "code",
   "execution_count": 85,
   "id": "a7cf8054",
   "metadata": {},
   "outputs": [
    {
     "data": {
      "text/plain": [
       "array(['F', 'M'], dtype=object)"
      ]
     },
     "execution_count": 85,
     "metadata": {},
     "output_type": "execute_result"
    }
   ],
   "source": [
    "df['Sex'].unique()"
   ]
  },
  {
   "cell_type": "markdown",
   "id": "9cf302f1",
   "metadata": {},
   "source": [
    "## Questions for which we have to find the answers before applying any ML model."
   ]
  },
  {
   "cell_type": "markdown",
   "id": "98df2f94",
   "metadata": {},
   "source": [
    "1. How many of males are having high BP and Normal cholestrol\n",
    "2. How many of female are having high BP and Normal cholestrol\n",
    "3. How many of males are having low BP and high cholestrol\n",
    "4. How many of female are having low BP and high cholestrol\n",
    "5. How many of males are having Normal BP and high cholestrol\n",
    "6. How many of males are having Normal BP and Normal cholestrol\n",
    "7. How many of females are having Normal BP and Normal cholestrol\n",
    "8. How many of females are having Normal BP and high cholestrol\n",
    "9. What is the ratio of Males and females samples\n",
    "10. Out of 200 entries of data, what percetage of people are having high colestrol\n",
    "11. Out of 200 entries of data, what percetage of people are having normal colestrol\n",
    "12. Out of 200 entries of data, what percetage of people are having high BP\n",
    "13. Out of 200 entries of data, what percetage of people are having normal BP\n",
    "14. Out of 200 entries of data, what percetage of people are having low BP\n",
    "15. Visualize the data taking different types of drugs (A,B,C,X,Y)"
   ]
  },
  {
   "cell_type": "code",
   "execution_count": 86,
   "id": "9a78afd1",
   "metadata": {},
   "outputs": [
    {
     "data": {
      "text/plain": [
       "21"
      ]
     },
     "execution_count": 86,
     "metadata": {},
     "output_type": "execute_result"
    }
   ],
   "source": [
    "# How many of males are having high BP and Normal cholestrol\n",
    "(df[(df['BP'] == 'HIGH') & (df['Cholesterol'] == 'NORMAL')]['Sex'] == 'M').sum()"
   ]
  },
  {
   "cell_type": "code",
   "execution_count": 87,
   "id": "309f9c0b",
   "metadata": {},
   "outputs": [
    {
     "data": {
      "text/plain": [
       "21"
      ]
     },
     "execution_count": 87,
     "metadata": {},
     "output_type": "execute_result"
    }
   ],
   "source": [
    "# How many of female are having high BP and Normal cholestrol\n",
    "(df[(df['BP'] == 'HIGH') & (df['Cholesterol'] == 'NORMAL')]['Sex'] == 'F').sum()"
   ]
  },
  {
   "cell_type": "code",
   "execution_count": 88,
   "id": "3b1348d8",
   "metadata": {},
   "outputs": [
    {
     "data": {
      "text/plain": [
       "17"
      ]
     },
     "execution_count": 88,
     "metadata": {},
     "output_type": "execute_result"
    }
   ],
   "source": [
    "# How many of males are having low BP and high cholestrol\n",
    "(df[(df['BP'] == 'LOW') & (df['Cholesterol'] == 'HIGH')]['Sex'] == 'M').sum()"
   ]
  },
  {
   "cell_type": "code",
   "execution_count": 89,
   "id": "2c4ceaf2",
   "metadata": {},
   "outputs": [
    {
     "data": {
      "text/plain": [
       "14"
      ]
     },
     "execution_count": 89,
     "metadata": {},
     "output_type": "execute_result"
    }
   ],
   "source": [
    "# How many of female are having low BP and high cholestrol\n",
    "(df[(df['BP'] == 'LOW') & (df['Cholesterol'] == 'HIGH')]['Sex'] == 'F').sum()"
   ]
  },
  {
   "cell_type": "code",
   "execution_count": 90,
   "id": "28a3b8df",
   "metadata": {},
   "outputs": [
    {
     "data": {
      "text/plain": [
       "19"
      ]
     },
     "execution_count": 90,
     "metadata": {},
     "output_type": "execute_result"
    }
   ],
   "source": [
    "# How many of males are having Normal BP and high cholestrol\n",
    "(df[(df['BP'] == 'NORMAL') & (df['Cholesterol'] == 'HIGH')]['Sex'] == 'M').sum()"
   ]
  },
  {
   "cell_type": "code",
   "execution_count": 91,
   "id": "0977c221",
   "metadata": {},
   "outputs": [
    {
     "data": {
      "text/plain": [
       "10"
      ]
     },
     "execution_count": 91,
     "metadata": {},
     "output_type": "execute_result"
    }
   ],
   "source": [
    "# How many of males are having Normal BP and Normal cholestrol\n",
    "(df[(df['BP'] == 'NORMAL') & (df['Cholesterol'] == 'NORMAL')]['Sex'] == 'M').sum()"
   ]
  },
  {
   "cell_type": "code",
   "execution_count": 92,
   "id": "4242d888",
   "metadata": {},
   "outputs": [
    {
     "data": {
      "text/plain": [
       "12"
      ]
     },
     "execution_count": 92,
     "metadata": {},
     "output_type": "execute_result"
    }
   ],
   "source": [
    "# How many of females are having Normal BP and Normal cholestrol\n",
    "(df[(df['BP'] == 'NORMAL') & (df['Cholesterol'] == 'NORMAL')]['Sex'] == 'F').sum()"
   ]
  },
  {
   "cell_type": "code",
   "execution_count": 93,
   "id": "056eaee0",
   "metadata": {
    "scrolled": true
   },
   "outputs": [
    {
     "data": {
      "text/plain": [
       "18"
      ]
     },
     "execution_count": 93,
     "metadata": {},
     "output_type": "execute_result"
    }
   ],
   "source": [
    "# How many of females are having Normal BP and high cholestrol\n",
    "(df[(df['BP'] == 'NORMAL') & (df['Cholesterol'] == 'HIGH')]['Sex'] == 'F').sum()"
   ]
  },
  {
   "cell_type": "markdown",
   "id": "891cc77e",
   "metadata": {},
   "source": [
    "#### Observations:\n",
    "1. 21 Males are having High BP & Normal cholestrol \n",
    "2. 21 Females are having High BP & Normal cholestrol \n",
    "3. 17 males are having low BP & high cholestrol\n",
    "4. 14 Females are having low BP and high cholestrol\n",
    "5. 19 males are having Normal BP and high cholestrol\n",
    "6. 10 males are having Normal BP and Normal cholestrol\n",
    "7. 12 Females are having Normal BP and Normal cholestrol\n",
    "8. 18 females are having Normal BP and high cholestrol"
   ]
  },
  {
   "cell_type": "code",
   "execution_count": 94,
   "id": "6391e101",
   "metadata": {},
   "outputs": [
    {
     "data": {
      "text/plain": [
       "M    104\n",
       "F     96\n",
       "Name: Sex, dtype: int64"
      ]
     },
     "execution_count": 94,
     "metadata": {},
     "output_type": "execute_result"
    }
   ],
   "source": [
    "# What is the ratio of Males and females samples\n",
    "df['Sex'].value_counts()"
   ]
  },
  {
   "cell_type": "markdown",
   "id": "07e23628",
   "metadata": {},
   "source": [
    "##### Observation:\n",
    "1. There are total 200 entries in the data, where 104 people are Males and 96 are females."
   ]
  },
  {
   "cell_type": "code",
   "execution_count": 95,
   "id": "e166b586",
   "metadata": {},
   "outputs": [
    {
     "data": {
      "text/plain": [
       "51.5"
      ]
     },
     "execution_count": 95,
     "metadata": {},
     "output_type": "execute_result"
    }
   ],
   "source": [
    "# Out of 200 entries of data, what percetage of people are having high colestrol\n",
    "High_colestrol = (df['Cholesterol'] == 'HIGH').sum()\n",
    "percentage = High_colestrol/200 *100\n",
    "percentage"
   ]
  },
  {
   "cell_type": "code",
   "execution_count": 96,
   "id": "5d1fd81e",
   "metadata": {},
   "outputs": [
    {
     "data": {
      "text/plain": [
       "48.5"
      ]
     },
     "execution_count": 96,
     "metadata": {},
     "output_type": "execute_result"
    }
   ],
   "source": [
    "# Out of 200 entries of data, what percetage of people are having normal colestrol\n",
    "Normal_colestrol = (df['Cholesterol'] == 'NORMAL').sum()\n",
    "percentage = Normal_colestrol/200 *100\n",
    "percentage"
   ]
  },
  {
   "cell_type": "markdown",
   "id": "b5a8e93f",
   "metadata": {},
   "source": [
    "##### Observation:\n",
    "1. 48.5% of population is having normal colestrol.\n",
    "2. 51.5% of the population is having high colestrol."
   ]
  },
  {
   "cell_type": "code",
   "execution_count": 97,
   "id": "3ea4669d",
   "metadata": {},
   "outputs": [
    {
     "data": {
      "text/plain": [
       "38.5"
      ]
     },
     "execution_count": 97,
     "metadata": {},
     "output_type": "execute_result"
    }
   ],
   "source": [
    "# Out of 200 entries of data, what percetage of people are having high BP\n",
    "High_BP = (df['BP'] == 'HIGH').sum()\n",
    "percentage = High_BP/200 *100\n",
    "percentage"
   ]
  },
  {
   "cell_type": "code",
   "execution_count": 98,
   "id": "00a3a7a0",
   "metadata": {},
   "outputs": [
    {
     "data": {
      "text/plain": [
       "29.5"
      ]
     },
     "execution_count": 98,
     "metadata": {},
     "output_type": "execute_result"
    }
   ],
   "source": [
    "# Out of 200 entries of data, what percetage of people are having normal BP\n",
    "NORMAL_BP = (df['BP'] == 'NORMAL').sum()\n",
    "percentage = NORMAL_BP/200 *100\n",
    "percentage"
   ]
  },
  {
   "cell_type": "code",
   "execution_count": 99,
   "id": "d5eeba5f",
   "metadata": {},
   "outputs": [
    {
     "data": {
      "text/plain": [
       "29.5"
      ]
     },
     "execution_count": 99,
     "metadata": {},
     "output_type": "execute_result"
    }
   ],
   "source": [
    "# Out of 200 entries of data, what percetage of people are having low BP\n",
    "LOW_BP = (df['BP'] == 'LOW').sum()\n",
    "percentage = NORMAL_BP/200 *100\n",
    "percentage"
   ]
  },
  {
   "cell_type": "markdown",
   "id": "93995534",
   "metadata": {},
   "source": [
    "##### Observation:\n",
    "1. Population having 29.5% Low BP and Normal BP.\n",
    "2. 38.5% of the population is having High BP."
   ]
  },
  {
   "cell_type": "code",
   "execution_count": 100,
   "id": "ddb8d4b0",
   "metadata": {},
   "outputs": [
    {
     "data": {
      "image/png": "[encoded data removed]",
      "text/plain": [
       "<Figure size 800x500 with 1 Axes>"
      ]
     },
     "metadata": {},
     "output_type": "display_data"
    }
   ],
   "source": [
    "# Visualize the data taking different types of drugs (A,B,C,X,Y)\n",
    "sns.set(rc = {'figure.figsize': (8,5)})\n",
    "sns.countplot(data=df, x = 'Drug')\n",
    "plt.xlabel(\"Drugs\")\n",
    "plt.ylabel(\"No. of drugs\")\n",
    "plt.title(\"People taking different types of drugs (A,B,C,X,Y)\")\n",
    "plt.tight_layout()\n",
    "plt.show()"
   ]
  },
  {
   "cell_type": "markdown",
   "id": "37494e06",
   "metadata": {},
   "source": [
    "#### Observation:\n",
    "1. There are 80+ people taking DrugY\n",
    "2. There are 50+ people taking DrugX\n",
    "3. There are 20+ people taking DrugA\n",
    "4. DrugC and DrugB plot shows equal number of people taking it.\n",
    "5. Top 3 drugs are DrugY, DrugX and DrugA"
   ]
  },
  {
   "cell_type": "code",
   "execution_count": 101,
   "id": "56cebcba",
   "metadata": {
    "scrolled": true
   },
   "outputs": [
    {
     "data": {
      "text/html": [
       "<div>\n",
       "<style scoped>\n",
       "    .dataframe tbody tr th:only-of-type {\n",
       "        vertical-align: middle;\n",
       "    }\n",
       "\n",
       "    .dataframe tbody tr th {\n",
       "        vertical-align: top;\n",
       "    }\n",
       "\n",
       "    .dataframe thead th {\n",
       "        text-align: right;\n",
       "    }\n",
       "</style>\n",
       "<table border=\"1\" class=\"dataframe\">\n",
       "  <thead>\n",
       "    <tr style=\"text-align: right;\">\n",
       "      <th></th>\n",
       "      <th>Age</th>\n",
       "      <th>Sex</th>\n",
       "      <th>BP</th>\n",
       "      <th>Cholesterol</th>\n",
       "      <th>Na_to_K</th>\n",
       "      <th>Drug</th>\n",
       "    </tr>\n",
       "  </thead>\n",
       "  <tbody>\n",
       "    <tr>\n",
       "      <th>0</th>\n",
       "      <td>23</td>\n",
       "      <td>F</td>\n",
       "      <td>HIGH</td>\n",
       "      <td>HIGH</td>\n",
       "      <td>25.355</td>\n",
       "      <td>drugY</td>\n",
       "    </tr>\n",
       "    <tr>\n",
       "      <th>1</th>\n",
       "      <td>47</td>\n",
       "      <td>M</td>\n",
       "      <td>LOW</td>\n",
       "      <td>HIGH</td>\n",
       "      <td>13.093</td>\n",
       "      <td>drugC</td>\n",
       "    </tr>\n",
       "    <tr>\n",
       "      <th>2</th>\n",
       "      <td>47</td>\n",
       "      <td>M</td>\n",
       "      <td>LOW</td>\n",
       "      <td>HIGH</td>\n",
       "      <td>10.114</td>\n",
       "      <td>drugC</td>\n",
       "    </tr>\n",
       "    <tr>\n",
       "      <th>3</th>\n",
       "      <td>28</td>\n",
       "      <td>F</td>\n",
       "      <td>NORMAL</td>\n",
       "      <td>HIGH</td>\n",
       "      <td>7.798</td>\n",
       "      <td>drugX</td>\n",
       "    </tr>\n",
       "    <tr>\n",
       "      <th>4</th>\n",
       "      <td>61</td>\n",
       "      <td>F</td>\n",
       "      <td>LOW</td>\n",
       "      <td>HIGH</td>\n",
       "      <td>18.043</td>\n",
       "      <td>drugY</td>\n",
       "    </tr>\n",
       "  </tbody>\n",
       "</table>\n",
       "</div>"
      ],
      "text/plain": [
       "   Age Sex      BP Cholesterol  Na_to_K   Drug\n",
       "0   23   F    HIGH        HIGH   25.355  drugY\n",
       "1   47   M     LOW        HIGH   13.093  drugC\n",
       "2   47   M     LOW        HIGH   10.114  drugC\n",
       "3   28   F  NORMAL        HIGH    7.798  drugX\n",
       "4   61   F     LOW        HIGH   18.043  drugY"
      ]
     },
     "execution_count": 101,
     "metadata": {},
     "output_type": "execute_result"
    }
   ],
   "source": [
    "df.head()"
   ]
  },
  {
   "cell_type": "code",
   "execution_count": 102,
   "id": "92e8502e",
   "metadata": {},
   "outputs": [],
   "source": [
    "from sklearn.preprocessing import LabelEncoder\n",
    "encoder = LabelEncoder()\n",
    "df['Sex'] = encoder.fit_transform(df['Sex'])\n",
    "df['Cholesterol'] = encoder.fit_transform(df['Cholesterol'])"
   ]
  },
  {
   "cell_type": "code",
   "execution_count": 103,
   "id": "8e445c44",
   "metadata": {},
   "outputs": [
    {
     "data": {
      "text/html": [
       "<div>\n",
       "<style scoped>\n",
       "    .dataframe tbody tr th:only-of-type {\n",
       "        vertical-align: middle;\n",
       "    }\n",
       "\n",
       "    .dataframe tbody tr th {\n",
       "        vertical-align: top;\n",
       "    }\n",
       "\n",
       "    .dataframe thead th {\n",
       "        text-align: right;\n",
       "    }\n",
       "</style>\n",
       "<table border=\"1\" class=\"dataframe\">\n",
       "  <thead>\n",
       "    <tr style=\"text-align: right;\">\n",
       "      <th></th>\n",
       "      <th>Age</th>\n",
       "      <th>Sex</th>\n",
       "      <th>Cholesterol</th>\n",
       "      <th>Na_to_K</th>\n",
       "      <th>Drug</th>\n",
       "      <th>BP_High</th>\n",
       "      <th>BP_Low</th>\n",
       "      <th>NORMAL</th>\n",
       "    </tr>\n",
       "  </thead>\n",
       "  <tbody>\n",
       "    <tr>\n",
       "      <th>0</th>\n",
       "      <td>23</td>\n",
       "      <td>0</td>\n",
       "      <td>0</td>\n",
       "      <td>25.355</td>\n",
       "      <td>drugY</td>\n",
       "      <td>1</td>\n",
       "      <td>0</td>\n",
       "      <td>0</td>\n",
       "    </tr>\n",
       "    <tr>\n",
       "      <th>1</th>\n",
       "      <td>47</td>\n",
       "      <td>1</td>\n",
       "      <td>0</td>\n",
       "      <td>13.093</td>\n",
       "      <td>drugC</td>\n",
       "      <td>0</td>\n",
       "      <td>1</td>\n",
       "      <td>0</td>\n",
       "    </tr>\n",
       "    <tr>\n",
       "      <th>2</th>\n",
       "      <td>47</td>\n",
       "      <td>1</td>\n",
       "      <td>0</td>\n",
       "      <td>10.114</td>\n",
       "      <td>drugC</td>\n",
       "      <td>0</td>\n",
       "      <td>1</td>\n",
       "      <td>0</td>\n",
       "    </tr>\n",
       "    <tr>\n",
       "      <th>3</th>\n",
       "      <td>28</td>\n",
       "      <td>0</td>\n",
       "      <td>0</td>\n",
       "      <td>7.798</td>\n",
       "      <td>drugX</td>\n",
       "      <td>0</td>\n",
       "      <td>0</td>\n",
       "      <td>1</td>\n",
       "    </tr>\n",
       "    <tr>\n",
       "      <th>4</th>\n",
       "      <td>61</td>\n",
       "      <td>0</td>\n",
       "      <td>0</td>\n",
       "      <td>18.043</td>\n",
       "      <td>drugY</td>\n",
       "      <td>0</td>\n",
       "      <td>1</td>\n",
       "      <td>0</td>\n",
       "    </tr>\n",
       "  </tbody>\n",
       "</table>\n",
       "</div>"
      ],
      "text/plain": [
       "   Age  Sex  Cholesterol  Na_to_K   Drug  BP_High  BP_Low  NORMAL\n",
       "0   23    0            0   25.355  drugY        1       0       0\n",
       "1   47    1            0   13.093  drugC        0       1       0\n",
       "2   47    1            0   10.114  drugC        0       1       0\n",
       "3   28    0            0    7.798  drugX        0       0       1\n",
       "4   61    0            0   18.043  drugY        0       1       0"
      ]
     },
     "execution_count": 103,
     "metadata": {},
     "output_type": "execute_result"
    }
   ],
   "source": [
    "df1 = pd.get_dummies(df['BP'])\n",
    "df = pd.concat((df, df1), axis=1)\n",
    "df.drop('BP', axis=1, inplace = True)\n",
    "df.rename({'HIGH' : \"BP_High\", 'LOW': 'BP_Low', 'Normal': 'BP_Normal'}, axis = 1, inplace = True)\n",
    "df.head()"
   ]
  },
  {
   "cell_type": "markdown",
   "id": "6cf84bc7",
   "metadata": {},
   "source": [
    "## Decision Tree and Random Forest Machine Learning Model"
   ]
  },
  {
   "cell_type": "code",
   "execution_count": 104,
   "id": "07630129",
   "metadata": {},
   "outputs": [],
   "source": [
    "X= df.drop('Drug', axis =1)\n",
    "y= df['Drug']"
   ]
  },
  {
   "cell_type": "code",
   "execution_count": 105,
   "id": "0216c22d",
   "metadata": {},
   "outputs": [],
   "source": [
    "from sklearn.model_selection import train_test_split\n",
    "X_train, X_test, y_train, y_test = train_test_split(X, y, random_state=42, test_size=0.33)"
   ]
  },
  {
   "cell_type": "code",
   "execution_count": 106,
   "id": "d34f41c9",
   "metadata": {},
   "outputs": [],
   "source": [
    "from sklearn.tree import DecisionTreeClassifier, plot_tree\n",
    "from sklearn.metrics import accuracy_score\n",
    "DT = DecisionTreeClassifier()\n",
    "DT.fit(X_train, y_train)\n",
    "pred_data = DT.predict(X_test)"
   ]
  },
  {
   "cell_type": "code",
   "execution_count": 110,
   "id": "16bddc64",
   "metadata": {},
   "outputs": [
    {
     "data": {
      "text/plain": [
       "1.0"
      ]
     },
     "execution_count": 110,
     "metadata": {},
     "output_type": "execute_result"
    }
   ],
   "source": [
    "accuracy_score(y_test, pred_data)"
   ]
  },
  {
   "cell_type": "code",
   "execution_count": 114,
   "id": "6501f87b",
   "metadata": {
    "scrolled": true
   },
   "outputs": [
    {
     "data": {
      "text/plain": [
       "1.0"
      ]
     },
     "execution_count": 114,
     "metadata": {},
     "output_type": "execute_result"
    }
   ],
   "source": [
    "Pred_train = DT.predict(X_train)\n",
    "accuracy_score(y_train, Pred_train)"
   ]
  },
  {
   "cell_type": "code",
   "execution_count": 116,
   "id": "ca408bad",
   "metadata": {},
   "outputs": [
    {
     "name": "stdout",
     "output_type": "stream",
     "text": [
      "              precision    recall  f1-score   support\n",
      "\n",
      "       drugA       1.00      1.00      1.00         8\n",
      "       drugB       1.00      1.00      1.00         4\n",
      "       drugC       1.00      1.00      1.00         6\n",
      "       drugX       1.00      1.00      1.00        19\n",
      "       drugY       1.00      1.00      1.00        29\n",
      "\n",
      "    accuracy                           1.00        66\n",
      "   macro avg       1.00      1.00      1.00        66\n",
      "weighted avg       1.00      1.00      1.00        66\n",
      "\n"
     ]
    }
   ],
   "source": [
    "from sklearn.metrics import classification_report\n",
    "print(classification_report(y_test, pred_data))"
   ]
  },
  {
   "cell_type": "code",
   "execution_count": 117,
   "id": "15c28bd2",
   "metadata": {},
   "outputs": [
    {
     "data": {
      "text/plain": [
       "array([[ 8,  0,  0,  0,  0],\n",
       "       [ 0,  4,  0,  0,  0],\n",
       "       [ 0,  0,  6,  0,  0],\n",
       "       [ 0,  0,  0, 19,  0],\n",
       "       [ 0,  0,  0,  0, 29]], dtype=int64)"
      ]
     },
     "execution_count": 117,
     "metadata": {},
     "output_type": "execute_result"
    }
   ],
   "source": [
    "from sklearn.metrics import confusion_matrix\n",
    "confusion_matrix(y_test, pred_data)"
   ]
  },
  {
   "cell_type": "code",
   "execution_count": 121,
   "id": "1b257c6c",
   "metadata": {},
   "outputs": [
    {
     "data": {
      "text/plain": [
       "Text(0.5, 1.0, 'Accuracy score: 1.0')"
      ]
     },
     "execution_count": 121,
     "metadata": {},
     "output_type": "execute_result"
    },
    {
     "data": {
      "image/png": "[encoded data removed]",
      "text/plain": [
       "<Figure size 500x500 with 2 Axes>"
      ]
     },
     "metadata": {},
     "output_type": "display_data"
    }
   ],
   "source": [
    "cm=confusion_matrix(y_test, pred_data)\n",
    "plt.figure(figsize=(5,5))\n",
    "sns.heatmap(cm,square=True,cmap='Blues',linewidth=0.5,annot=True)\n",
    "plt.xlabel('Actual Value')\n",
    "plt.ylabel('Predicted value')\n",
    "title='Accuracy score: {0}'.format(accuracy_score(y_test, pred_data))\n",
    "plt.title(title,size=15)"
   ]
  },
  {
   "cell_type": "code",
   "execution_count": 132,
   "id": "fce518b2",
   "metadata": {},
   "outputs": [
    {
     "data": {
      "image/png": "[encoded data removed]",
      "text/plain": [
       "<Figure size 800x500 with 1 Axes>"
      ]
     },
     "metadata": {},
     "output_type": "display_data"
    }
   ],
   "source": [
    "tree = plot_tree(decision_tree=DT, class_names=['DrugA','Drug B','Drug C','Drug X','Drug Y'], rounded=True,filled=True, precision=True)"
   ]
  },
  {
   "cell_type": "code",
   "execution_count": null,
   "id": "2dacc46f",
   "metadata": {},
   "outputs": [],
   "source": [
    "## we see Gini is more than 0.5, this is due to multi-class"
   ]
  }
 ],
 "metadata": {
  "kernelspec": {
   "display_name": "Python 3 (ipykernel)",
   "language": "python",
   "name": "python3"
  },
  "language_info": {
   "codemirror_mode": {
    "name": "ipython",
    "version": 3
   },
   "file_extension": ".py",
   "mimetype": "text/x-python",
   "name": "python",
   "nbconvert_exporter": "python",
   "pygments_lexer": "ipython3",
   "version": "3.11.4"
  }
 },
 "nbformat": 4,
 "nbformat_minor": 5
}
