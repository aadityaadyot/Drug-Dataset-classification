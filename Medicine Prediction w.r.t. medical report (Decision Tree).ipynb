{
 "cells": [
  {
   "cell_type": "code",
   "execution_count": 1,
   "id": "c7c11167",
   "metadata": {},
   "outputs": [],
   "source": [
    "import pandas as pd\n",
    "import numpy as np\n",
    "import seaborn as sns\n",
    "import matplotlib.pyplot as plt\n",
    "%matplotlib inline\n",
    "import warnings\n",
    "warnings.filterwarnings('ignore')"
   ]
  },
  {
   "cell_type": "code",
   "execution_count": 2,
   "id": "1799536f",
   "metadata": {},
   "outputs": [
    {
     "data": {
      "text/plain": [
       "'ascii'"
      ]
     },
     "execution_count": 2,
     "metadata": {},
     "output_type": "execute_result"
    }
   ],
   "source": [
    "# To check the file encoding using Chardet package\n",
    "import chardet\n",
    "with open('Data\\drug.csv', 'rb') as f:\n",
    "    result = chardet.detect(f.read())\n",
    "result['encoding']"
   ]
  },
  {
   "cell_type": "code",
   "execution_count": 3,
   "id": "af8adf8c",
   "metadata": {},
   "outputs": [],
   "source": [
    "#Loading the file\n",
    "df = pd.read_csv('Data\\drug.csv', encoding= 'ascii')"
   ]
  },
  {
   "cell_type": "code",
   "execution_count": 4,
   "id": "654846ee",
   "metadata": {},
   "outputs": [
    {
     "data": {
      "text/html": [
       "<div>\n",
       "<style scoped>\n",
       "    .dataframe tbody tr th:only-of-type {\n",
       "        vertical-align: middle;\n",
       "    }\n",
       "\n",
       "    .dataframe tbody tr th {\n",
       "        vertical-align: top;\n",
       "    }\n",
       "\n",
       "    .dataframe thead th {\n",
       "        text-align: right;\n",
       "    }\n",
       "</style>\n",
       "<table border=\"1\" class=\"dataframe\">\n",
       "  <thead>\n",
       "    <tr style=\"text-align: right;\">\n",
       "      <th></th>\n",
       "      <th>Age</th>\n",
       "      <th>Sex</th>\n",
       "      <th>BP</th>\n",
       "      <th>Cholesterol</th>\n",
       "      <th>Na_to_K</th>\n",
       "      <th>Drug</th>\n",
       "    </tr>\n",
       "  </thead>\n",
       "  <tbody>\n",
       "    <tr>\n",
       "      <th>0</th>\n",
       "      <td>23</td>\n",
       "      <td>F</td>\n",
       "      <td>HIGH</td>\n",
       "      <td>HIGH</td>\n",
       "      <td>25.355</td>\n",
       "      <td>drugY</td>\n",
       "    </tr>\n",
       "    <tr>\n",
       "      <th>1</th>\n",
       "      <td>47</td>\n",
       "      <td>M</td>\n",
       "      <td>LOW</td>\n",
       "      <td>HIGH</td>\n",
       "      <td>13.093</td>\n",
       "      <td>drugC</td>\n",
       "    </tr>\n",
       "    <tr>\n",
       "      <th>2</th>\n",
       "      <td>47</td>\n",
       "      <td>M</td>\n",
       "      <td>LOW</td>\n",
       "      <td>HIGH</td>\n",
       "      <td>10.114</td>\n",
       "      <td>drugC</td>\n",
       "    </tr>\n",
       "    <tr>\n",
       "      <th>3</th>\n",
       "      <td>28</td>\n",
       "      <td>F</td>\n",
       "      <td>NORMAL</td>\n",
       "      <td>HIGH</td>\n",
       "      <td>7.798</td>\n",
       "      <td>drugX</td>\n",
       "    </tr>\n",
       "    <tr>\n",
       "      <th>4</th>\n",
       "      <td>61</td>\n",
       "      <td>F</td>\n",
       "      <td>LOW</td>\n",
       "      <td>HIGH</td>\n",
       "      <td>18.043</td>\n",
       "      <td>drugY</td>\n",
       "    </tr>\n",
       "  </tbody>\n",
       "</table>\n",
       "</div>"
      ],
      "text/plain": [
       "   Age Sex      BP Cholesterol  Na_to_K   Drug\n",
       "0   23   F    HIGH        HIGH   25.355  drugY\n",
       "1   47   M     LOW        HIGH   13.093  drugC\n",
       "2   47   M     LOW        HIGH   10.114  drugC\n",
       "3   28   F  NORMAL        HIGH    7.798  drugX\n",
       "4   61   F     LOW        HIGH   18.043  drugY"
      ]
     },
     "execution_count": 4,
     "metadata": {},
     "output_type": "execute_result"
    }
   ],
   "source": [
    "#checking the top entried in the dataset\n",
    "df.head()"
   ]
  },
  {
   "cell_type": "code",
   "execution_count": 5,
   "id": "45f6bb5f",
   "metadata": {},
   "outputs": [
    {
     "data": {
      "text/html": [
       "<div>\n",
       "<style scoped>\n",
       "    .dataframe tbody tr th:only-of-type {\n",
       "        vertical-align: middle;\n",
       "    }\n",
       "\n",
       "    .dataframe tbody tr th {\n",
       "        vertical-align: top;\n",
       "    }\n",
       "\n",
       "    .dataframe thead th {\n",
       "        text-align: right;\n",
       "    }\n",
       "</style>\n",
       "<table border=\"1\" class=\"dataframe\">\n",
       "  <thead>\n",
       "    <tr style=\"text-align: right;\">\n",
       "      <th></th>\n",
       "      <th>Age</th>\n",
       "      <th>Sex</th>\n",
       "      <th>BP</th>\n",
       "      <th>Cholesterol</th>\n",
       "      <th>Na_to_K</th>\n",
       "      <th>Drug</th>\n",
       "    </tr>\n",
       "  </thead>\n",
       "  <tbody>\n",
       "    <tr>\n",
       "      <th>195</th>\n",
       "      <td>56</td>\n",
       "      <td>F</td>\n",
       "      <td>LOW</td>\n",
       "      <td>HIGH</td>\n",
       "      <td>11.567</td>\n",
       "      <td>drugC</td>\n",
       "    </tr>\n",
       "    <tr>\n",
       "      <th>196</th>\n",
       "      <td>16</td>\n",
       "      <td>M</td>\n",
       "      <td>LOW</td>\n",
       "      <td>HIGH</td>\n",
       "      <td>12.006</td>\n",
       "      <td>drugC</td>\n",
       "    </tr>\n",
       "    <tr>\n",
       "      <th>197</th>\n",
       "      <td>52</td>\n",
       "      <td>M</td>\n",
       "      <td>NORMAL</td>\n",
       "      <td>HIGH</td>\n",
       "      <td>9.894</td>\n",
       "      <td>drugX</td>\n",
       "    </tr>\n",
       "    <tr>\n",
       "      <th>198</th>\n",
       "      <td>23</td>\n",
       "      <td>M</td>\n",
       "      <td>NORMAL</td>\n",
       "      <td>NORMAL</td>\n",
       "      <td>14.020</td>\n",
       "      <td>drugX</td>\n",
       "    </tr>\n",
       "    <tr>\n",
       "      <th>199</th>\n",
       "      <td>40</td>\n",
       "      <td>F</td>\n",
       "      <td>LOW</td>\n",
       "      <td>NORMAL</td>\n",
       "      <td>11.349</td>\n",
       "      <td>drugX</td>\n",
       "    </tr>\n",
       "  </tbody>\n",
       "</table>\n",
       "</div>"
      ],
      "text/plain": [
       "     Age Sex      BP Cholesterol  Na_to_K   Drug\n",
       "195   56   F     LOW        HIGH   11.567  drugC\n",
       "196   16   M     LOW        HIGH   12.006  drugC\n",
       "197   52   M  NORMAL        HIGH    9.894  drugX\n",
       "198   23   M  NORMAL      NORMAL   14.020  drugX\n",
       "199   40   F     LOW      NORMAL   11.349  drugX"
      ]
     },
     "execution_count": 5,
     "metadata": {},
     "output_type": "execute_result"
    }
   ],
   "source": [
    "df.tail()"
   ]
  },
  {
   "cell_type": "code",
   "execution_count": 6,
   "id": "7cceef1e",
   "metadata": {
    "scrolled": true
   },
   "outputs": [
    {
     "name": "stdout",
     "output_type": "stream",
     "text": [
      "<class 'pandas.core.frame.DataFrame'>\n",
      "RangeIndex: 200 entries, 0 to 199\n",
      "Data columns (total 6 columns):\n",
      " #   Column       Non-Null Count  Dtype  \n",
      "---  ------       --------------  -----  \n",
      " 0   Age          200 non-null    int64  \n",
      " 1   Sex          200 non-null    object \n",
      " 2   BP           200 non-null    object \n",
      " 3   Cholesterol  200 non-null    object \n",
      " 4   Na_to_K      200 non-null    float64\n",
      " 5   Drug         200 non-null    object \n",
      "dtypes: float64(1), int64(1), object(4)\n",
      "memory usage: 9.5+ KB\n"
     ]
    }
   ],
   "source": [
    "df.info()"
   ]
  },
  {
   "cell_type": "markdown",
   "id": "1cb35b9e",
   "metadata": {},
   "source": [
    "There are 4 float feature, 1 integer feature and 4 Categorical features. "
   ]
  },
  {
   "cell_type": "code",
   "execution_count": 7,
   "id": "d37619e8",
   "metadata": {},
   "outputs": [
    {
     "data": {
      "text/plain": [
       "0"
      ]
     },
     "execution_count": 7,
     "metadata": {},
     "output_type": "execute_result"
    }
   ],
   "source": [
    "df.duplicated().sum()"
   ]
  },
  {
   "cell_type": "code",
   "execution_count": 8,
   "id": "9a9e829e",
   "metadata": {},
   "outputs": [
    {
     "data": {
      "text/plain": [
       "[]"
      ]
     },
     "execution_count": 8,
     "metadata": {},
     "output_type": "execute_result"
    }
   ],
   "source": [
    "#to check the null values in the dataset\n",
    "[feature for feature in df.columns if df[feature].isnull().sum()!=0]"
   ]
  },
  {
   "cell_type": "code",
   "execution_count": 9,
   "id": "9043d894",
   "metadata": {},
   "outputs": [
    {
     "data": {
      "text/plain": [
       "array([23, 47, 28, 61, 22, 49, 41, 60, 43, 34, 74, 50, 16, 69, 32, 57, 63,\n",
       "       48, 33, 31, 39, 45, 18, 65, 53, 46, 15, 73, 58, 66, 37, 68, 67, 62,\n",
       "       24, 26, 40, 38, 29, 17, 54, 70, 36, 19, 64, 59, 51, 42, 56, 20, 72,\n",
       "       35, 52, 55, 30, 21, 25], dtype=int64)"
      ]
     },
     "execution_count": 9,
     "metadata": {},
     "output_type": "execute_result"
    }
   ],
   "source": [
    "df['Age'].unique()"
   ]
  },
  {
   "cell_type": "code",
   "execution_count": 10,
   "id": "8017119b",
   "metadata": {},
   "outputs": [],
   "source": [
    "#Age is between 15-74 years"
   ]
  },
  {
   "cell_type": "code",
   "execution_count": 11,
   "id": "9d96bfc0",
   "metadata": {},
   "outputs": [
    {
     "data": {
      "text/plain": [
       "array(['HIGH', 'LOW', 'NORMAL'], dtype=object)"
      ]
     },
     "execution_count": 11,
     "metadata": {},
     "output_type": "execute_result"
    }
   ],
   "source": [
    "df['BP'].unique()"
   ]
  },
  {
   "cell_type": "code",
   "execution_count": 12,
   "id": "0c7fe819",
   "metadata": {},
   "outputs": [
    {
     "data": {
      "text/plain": [
       "array(['HIGH', 'NORMAL'], dtype=object)"
      ]
     },
     "execution_count": 12,
     "metadata": {},
     "output_type": "execute_result"
    }
   ],
   "source": [
    "df['Cholesterol'].unique()"
   ]
  },
  {
   "cell_type": "code",
   "execution_count": 13,
   "id": "7937b6df",
   "metadata": {},
   "outputs": [
    {
     "data": {
      "text/plain": [
       "array(['drugY', 'drugC', 'drugX', 'drugA', 'drugB'], dtype=object)"
      ]
     },
     "execution_count": 13,
     "metadata": {},
     "output_type": "execute_result"
    }
   ],
   "source": [
    "df['Drug'].unique()"
   ]
  },
  {
   "cell_type": "code",
   "execution_count": 14,
   "id": "b377d44a",
   "metadata": {},
   "outputs": [
    {
     "data": {
      "text/plain": [
       "array(['F', 'M'], dtype=object)"
      ]
     },
     "execution_count": 14,
     "metadata": {},
     "output_type": "execute_result"
    }
   ],
   "source": [
    "df['Sex'].unique()"
   ]
  },
  {
   "cell_type": "markdown",
   "id": "c749e985",
   "metadata": {},
   "source": [
    "## Questions for which we have to find the answers before applying any ML model."
   ]
  },
  {
   "cell_type": "markdown",
   "id": "0d931c9b",
   "metadata": {},
   "source": [
    "1. How many of males are having high BP and Normal cholestrol\n",
    "2. How many of female are having high BP and Normal cholestrol\n",
    "3. How many of males are having low BP and high cholestrol\n",
    "4. How many of female are having low BP and high cholestrol\n",
    "5. How many of males are having Normal BP and high cholestrol\n",
    "6. How many of males are having Normal BP and Normal cholestrol\n",
    "7. How many of females are having Normal BP and Normal cholestrol\n",
    "8. How many of females are having Normal BP and high cholestrol\n",
    "9. What is the ratio of Males and females samples\n",
    "10. Out of 200 entries of data, what percetage of people are having high colestrol\n",
    "11. Out of 200 entries of data, what percetage of people are having normal colestrol\n",
    "12. Out of 200 entries of data, what percetage of people are having high BP\n",
    "13. Out of 200 entries of data, what percetage of people are having normal BP\n",
    "14. Out of 200 entries of data, what percetage of people are having low BP\n",
    "15. Visualize the data taking different types of drugs (A,B,C,X,Y)"
   ]
  },
  {
   "cell_type": "code",
   "execution_count": 15,
   "id": "549d1d69",
   "metadata": {},
   "outputs": [
    {
     "data": {
      "text/plain": [
       "21"
      ]
     },
     "execution_count": 15,
     "metadata": {},
     "output_type": "execute_result"
    }
   ],
   "source": [
    "# How many of males are having high BP and Normal cholestrol\n",
    "(df[(df['BP'] == 'HIGH') & (df['Cholesterol'] == 'NORMAL')]['Sex'] == 'M').sum()"
   ]
  },
  {
   "cell_type": "code",
   "execution_count": 16,
   "id": "4159285a",
   "metadata": {},
   "outputs": [
    {
     "data": {
      "text/plain": [
       "21"
      ]
     },
     "execution_count": 16,
     "metadata": {},
     "output_type": "execute_result"
    }
   ],
   "source": [
    "# How many of female are having high BP and Normal cholestrol\n",
    "(df[(df['BP'] == 'HIGH') & (df['Cholesterol'] == 'NORMAL')]['Sex'] == 'F').sum()"
   ]
  },
  {
   "cell_type": "code",
   "execution_count": 17,
   "id": "49e2a89a",
   "metadata": {},
   "outputs": [
    {
     "data": {
      "text/plain": [
       "17"
      ]
     },
     "execution_count": 17,
     "metadata": {},
     "output_type": "execute_result"
    }
   ],
   "source": [
    "# How many of males are having low BP and high cholestrol\n",
    "(df[(df['BP'] == 'LOW') & (df['Cholesterol'] == 'HIGH')]['Sex'] == 'M').sum()"
   ]
  },
  {
   "cell_type": "code",
   "execution_count": 18,
   "id": "a6769583",
   "metadata": {},
   "outputs": [
    {
     "data": {
      "text/plain": [
       "14"
      ]
     },
     "execution_count": 18,
     "metadata": {},
     "output_type": "execute_result"
    }
   ],
   "source": [
    "# How many of female are having low BP and high cholestrol\n",
    "(df[(df['BP'] == 'LOW') & (df['Cholesterol'] == 'HIGH')]['Sex'] == 'F').sum()"
   ]
  },
  {
   "cell_type": "code",
   "execution_count": 19,
   "id": "9b520313",
   "metadata": {},
   "outputs": [
    {
     "data": {
      "text/plain": [
       "19"
      ]
     },
     "execution_count": 19,
     "metadata": {},
     "output_type": "execute_result"
    }
   ],
   "source": [
    "# How many of males are having Normal BP and high cholestrol\n",
    "(df[(df['BP'] == 'NORMAL') & (df['Cholesterol'] == 'HIGH')]['Sex'] == 'M').sum()"
   ]
  },
  {
   "cell_type": "code",
   "execution_count": 20,
   "id": "ae540421",
   "metadata": {},
   "outputs": [
    {
     "data": {
      "text/plain": [
       "10"
      ]
     },
     "execution_count": 20,
     "metadata": {},
     "output_type": "execute_result"
    }
   ],
   "source": [
    "# How many of males are having Normal BP and Normal cholestrol\n",
    "(df[(df['BP'] == 'NORMAL') & (df['Cholesterol'] == 'NORMAL')]['Sex'] == 'M').sum()"
   ]
  },
  {
   "cell_type": "code",
   "execution_count": 21,
   "id": "6b8f13a7",
   "metadata": {},
   "outputs": [
    {
     "data": {
      "text/plain": [
       "12"
      ]
     },
     "execution_count": 21,
     "metadata": {},
     "output_type": "execute_result"
    }
   ],
   "source": [
    "# How many of females are having Normal BP and Normal cholestrol\n",
    "(df[(df['BP'] == 'NORMAL') & (df['Cholesterol'] == 'NORMAL')]['Sex'] == 'F').sum()"
   ]
  },
  {
   "cell_type": "code",
   "execution_count": 22,
   "id": "18636a56",
   "metadata": {
    "scrolled": true
   },
   "outputs": [
    {
     "data": {
      "text/plain": [
       "18"
      ]
     },
     "execution_count": 22,
     "metadata": {},
     "output_type": "execute_result"
    }
   ],
   "source": [
    "# How many of females are having Normal BP and high cholestrol\n",
    "(df[(df['BP'] == 'NORMAL') & (df['Cholesterol'] == 'HIGH')]['Sex'] == 'F').sum()"
   ]
  },
  {
   "cell_type": "markdown",
   "id": "b3751cf2",
   "metadata": {},
   "source": [
    "#### Observations:\n",
    "1. 21 Males are having High BP & Normal cholestrol \n",
    "2. 21 Females are having High BP & Normal cholestrol \n",
    "3. 17 males are having low BP & high cholestrol\n",
    "4. 14 Females are having low BP and high cholestrol\n",
    "5. 19 males are having Normal BP and high cholestrol\n",
    "6. 10 males are having Normal BP and Normal cholestrol\n",
    "7. 12 Females are having Normal BP and Normal cholestrol\n",
    "8. 18 females are having Normal BP and high cholestrol"
   ]
  },
  {
   "cell_type": "code",
   "execution_count": 23,
   "id": "f0e4d95a",
   "metadata": {},
   "outputs": [
    {
     "data": {
      "text/plain": [
       "M    104\n",
       "F     96\n",
       "Name: Sex, dtype: int64"
      ]
     },
     "execution_count": 23,
     "metadata": {},
     "output_type": "execute_result"
    }
   ],
   "source": [
    "# What is the ratio of Males and females samples\n",
    "df['Sex'].value_counts()"
   ]
  },
  {
   "cell_type": "markdown",
   "id": "2440c973",
   "metadata": {},
   "source": [
    "##### Observation:\n",
    "1. There are total 200 entries in the data, where 104 people are Males and 96 are females."
   ]
  },
  {
   "cell_type": "code",
   "execution_count": 24,
   "id": "56a8d4d6",
   "metadata": {},
   "outputs": [
    {
     "data": {
      "text/plain": [
       "51.5"
      ]
     },
     "execution_count": 24,
     "metadata": {},
     "output_type": "execute_result"
    }
   ],
   "source": [
    "# Out of 200 entries of data, what percetage of people are having high colestrol\n",
    "High_colestrol = (df['Cholesterol'] == 'HIGH').sum()\n",
    "percentage = High_colestrol/200 *100\n",
    "percentage"
   ]
  },
  {
   "cell_type": "code",
   "execution_count": 25,
   "id": "81695784",
   "metadata": {},
   "outputs": [
    {
     "data": {
      "text/plain": [
       "48.5"
      ]
     },
     "execution_count": 25,
     "metadata": {},
     "output_type": "execute_result"
    }
   ],
   "source": [
    "# Out of 200 entries of data, what percetage of people are having normal colestrol\n",
    "Normal_colestrol = (df['Cholesterol'] == 'NORMAL').sum()\n",
    "percentage = Normal_colestrol/200 *100\n",
    "percentage"
   ]
  },
  {
   "cell_type": "markdown",
   "id": "30412810",
   "metadata": {},
   "source": [
    "##### Observation:\n",
    "1. 48.5% of population is having normal colestrol.\n",
    "2. 51.5% of the population is having high colestrol."
   ]
  },
  {
   "cell_type": "code",
   "execution_count": 26,
   "id": "3b8b2ec5",
   "metadata": {},
   "outputs": [
    {
     "data": {
      "text/plain": [
       "38.5"
      ]
     },
     "execution_count": 26,
     "metadata": {},
     "output_type": "execute_result"
    }
   ],
   "source": [
    "# Out of 200 entries of data, what percetage of people are having high BP\n",
    "High_BP = (df['BP'] == 'HIGH').sum()\n",
    "percentage = High_BP/200 *100\n",
    "percentage"
   ]
  },
  {
   "cell_type": "code",
   "execution_count": 27,
   "id": "2c2bc8ad",
   "metadata": {},
   "outputs": [
    {
     "data": {
      "text/plain": [
       "29.5"
      ]
     },
     "execution_count": 27,
     "metadata": {},
     "output_type": "execute_result"
    }
   ],
   "source": [
    "# Out of 200 entries of data, what percetage of people are having normal BP\n",
    "NORMAL_BP = (df['BP'] == 'NORMAL').sum()\n",
    "percentage = NORMAL_BP/200 *100\n",
    "percentage"
   ]
  },
  {
   "cell_type": "code",
   "execution_count": 28,
   "id": "c02d4a77",
   "metadata": {},
   "outputs": [
    {
     "data": {
      "text/plain": [
       "29.5"
      ]
     },
     "execution_count": 28,
     "metadata": {},
     "output_type": "execute_result"
    }
   ],
   "source": [
    "# Out of 200 entries of data, what percetage of people are having low BP\n",
    "LOW_BP = (df['BP'] == 'LOW').sum()\n",
    "percentage = NORMAL_BP/200 *100\n",
    "percentage"
   ]
  },
  {
   "cell_type": "markdown",
   "id": "174eab8e",
   "metadata": {},
   "source": [
    "##### Observation:\n",
    "1. Population having 29.5% Low BP and Normal BP.\n",
    "2. 38.5% of the population is having High BP."
   ]
  },
  {
   "cell_type": "code",
   "execution_count": 29,
   "id": "b9acaa80",
   "metadata": {},
   "outputs": [
    {
     "data": {
      "image/png": "[encoded data removed]",
      "text/plain": [
       "<Figure size 800x500 with 1 Axes>"
      ]
     },
     "metadata": {},
     "output_type": "display_data"
    }
   ],
   "source": [
    "# Visualize the data taking different types of drugs (A,B,C,X,Y)\n",
    "sns.set(rc = {'figure.figsize': (8,5)})\n",
    "sns.countplot(data=df, x = 'Drug')\n",
    "plt.xlabel(\"Drugs\")\n",
    "plt.ylabel(\"No. of drugs\")\n",
    "plt.title(\"People taking different types of drugs (A,B,C,X,Y)\")\n",
    "plt.tight_layout()\n",
    "plt.show()"
   ]
  },
  {
   "cell_type": "markdown",
   "id": "132689fe",
   "metadata": {},
   "source": [
    "#### Observation:\n",
    "1. There are 80+ people taking DrugY\n",
    "2. There are 50+ people taking DrugX\n",
    "3. There are 20+ people taking DrugA\n",
    "4. DrugC and DrugB plot shows equal number of people taking it.\n",
    "5. Top 3 drugs are DrugY, DrugX and DrugA"
   ]
  },
  {
   "cell_type": "code",
   "execution_count": 30,
   "id": "01f92ca3",
   "metadata": {
    "scrolled": true
   },
   "outputs": [
    {
     "data": {
      "text/html": [
       "<div>\n",
       "<style scoped>\n",
       "    .dataframe tbody tr th:only-of-type {\n",
       "        vertical-align: middle;\n",
       "    }\n",
       "\n",
       "    .dataframe tbody tr th {\n",
       "        vertical-align: top;\n",
       "    }\n",
       "\n",
       "    .dataframe thead th {\n",
       "        text-align: right;\n",
       "    }\n",
       "</style>\n",
       "<table border=\"1\" class=\"dataframe\">\n",
       "  <thead>\n",
       "    <tr style=\"text-align: right;\">\n",
       "      <th></th>\n",
       "      <th>Age</th>\n",
       "      <th>Sex</th>\n",
       "      <th>BP</th>\n",
       "      <th>Cholesterol</th>\n",
       "      <th>Na_to_K</th>\n",
       "      <th>Drug</th>\n",
       "    </tr>\n",
       "  </thead>\n",
       "  <tbody>\n",
       "    <tr>\n",
       "      <th>0</th>\n",
       "      <td>23</td>\n",
       "      <td>F</td>\n",
       "      <td>HIGH</td>\n",
       "      <td>HIGH</td>\n",
       "      <td>25.355</td>\n",
       "      <td>drugY</td>\n",
       "    </tr>\n",
       "    <tr>\n",
       "      <th>1</th>\n",
       "      <td>47</td>\n",
       "      <td>M</td>\n",
       "      <td>LOW</td>\n",
       "      <td>HIGH</td>\n",
       "      <td>13.093</td>\n",
       "      <td>drugC</td>\n",
       "    </tr>\n",
       "    <tr>\n",
       "      <th>2</th>\n",
       "      <td>47</td>\n",
       "      <td>M</td>\n",
       "      <td>LOW</td>\n",
       "      <td>HIGH</td>\n",
       "      <td>10.114</td>\n",
       "      <td>drugC</td>\n",
       "    </tr>\n",
       "    <tr>\n",
       "      <th>3</th>\n",
       "      <td>28</td>\n",
       "      <td>F</td>\n",
       "      <td>NORMAL</td>\n",
       "      <td>HIGH</td>\n",
       "      <td>7.798</td>\n",
       "      <td>drugX</td>\n",
       "    </tr>\n",
       "    <tr>\n",
       "      <th>4</th>\n",
       "      <td>61</td>\n",
       "      <td>F</td>\n",
       "      <td>LOW</td>\n",
       "      <td>HIGH</td>\n",
       "      <td>18.043</td>\n",
       "      <td>drugY</td>\n",
       "    </tr>\n",
       "  </tbody>\n",
       "</table>\n",
       "</div>"
      ],
      "text/plain": [
       "   Age Sex      BP Cholesterol  Na_to_K   Drug\n",
       "0   23   F    HIGH        HIGH   25.355  drugY\n",
       "1   47   M     LOW        HIGH   13.093  drugC\n",
       "2   47   M     LOW        HIGH   10.114  drugC\n",
       "3   28   F  NORMAL        HIGH    7.798  drugX\n",
       "4   61   F     LOW        HIGH   18.043  drugY"
      ]
     },
     "execution_count": 30,
     "metadata": {},
     "output_type": "execute_result"
    }
   ],
   "source": [
    "df.head()"
   ]
  },
  {
   "cell_type": "code",
   "execution_count": 31,
   "id": "b7d93f59",
   "metadata": {},
   "outputs": [],
   "source": [
    "from sklearn.preprocessing import LabelEncoder\n",
    "encoder = LabelEncoder()\n",
    "df['Sex'] = encoder.fit_transform(df['Sex'])\n",
    "df['Cholesterol'] = encoder.fit_transform(df['Cholesterol'])"
   ]
  },
  {
   "cell_type": "code",
   "execution_count": 32,
   "id": "17f42f8c",
   "metadata": {},
   "outputs": [
    {
     "data": {
      "text/html": [
       "<div>\n",
       "<style scoped>\n",
       "    .dataframe tbody tr th:only-of-type {\n",
       "        vertical-align: middle;\n",
       "    }\n",
       "\n",
       "    .dataframe tbody tr th {\n",
       "        vertical-align: top;\n",
       "    }\n",
       "\n",
       "    .dataframe thead th {\n",
       "        text-align: right;\n",
       "    }\n",
       "</style>\n",
       "<table border=\"1\" class=\"dataframe\">\n",
       "  <thead>\n",
       "    <tr style=\"text-align: right;\">\n",
       "      <th></th>\n",
       "      <th>Age</th>\n",
       "      <th>Sex</th>\n",
       "      <th>Cholesterol</th>\n",
       "      <th>Na_to_K</th>\n",
       "      <th>Drug</th>\n",
       "      <th>BP_High</th>\n",
       "      <th>BP_Low</th>\n",
       "      <th>NORMAL</th>\n",
       "    </tr>\n",
       "  </thead>\n",
       "  <tbody>\n",
       "    <tr>\n",
       "      <th>0</th>\n",
       "      <td>23</td>\n",
       "      <td>0</td>\n",
       "      <td>0</td>\n",
       "      <td>25.355</td>\n",
       "      <td>drugY</td>\n",
       "      <td>1</td>\n",
       "      <td>0</td>\n",
       "      <td>0</td>\n",
       "    </tr>\n",
       "    <tr>\n",
       "      <th>1</th>\n",
       "      <td>47</td>\n",
       "      <td>1</td>\n",
       "      <td>0</td>\n",
       "      <td>13.093</td>\n",
       "      <td>drugC</td>\n",
       "      <td>0</td>\n",
       "      <td>1</td>\n",
       "      <td>0</td>\n",
       "    </tr>\n",
       "    <tr>\n",
       "      <th>2</th>\n",
       "      <td>47</td>\n",
       "      <td>1</td>\n",
       "      <td>0</td>\n",
       "      <td>10.114</td>\n",
       "      <td>drugC</td>\n",
       "      <td>0</td>\n",
       "      <td>1</td>\n",
       "      <td>0</td>\n",
       "    </tr>\n",
       "    <tr>\n",
       "      <th>3</th>\n",
       "      <td>28</td>\n",
       "      <td>0</td>\n",
       "      <td>0</td>\n",
       "      <td>7.798</td>\n",
       "      <td>drugX</td>\n",
       "      <td>0</td>\n",
       "      <td>0</td>\n",
       "      <td>1</td>\n",
       "    </tr>\n",
       "    <tr>\n",
       "      <th>4</th>\n",
       "      <td>61</td>\n",
       "      <td>0</td>\n",
       "      <td>0</td>\n",
       "      <td>18.043</td>\n",
       "      <td>drugY</td>\n",
       "      <td>0</td>\n",
       "      <td>1</td>\n",
       "      <td>0</td>\n",
       "    </tr>\n",
       "  </tbody>\n",
       "</table>\n",
       "</div>"
      ],
      "text/plain": [
       "   Age  Sex  Cholesterol  Na_to_K   Drug  BP_High  BP_Low  NORMAL\n",
       "0   23    0            0   25.355  drugY        1       0       0\n",
       "1   47    1            0   13.093  drugC        0       1       0\n",
       "2   47    1            0   10.114  drugC        0       1       0\n",
       "3   28    0            0    7.798  drugX        0       0       1\n",
       "4   61    0            0   18.043  drugY        0       1       0"
      ]
     },
     "execution_count": 32,
     "metadata": {},
     "output_type": "execute_result"
    }
   ],
   "source": [
    "df1 = pd.get_dummies(df['BP'])\n",
    "df = pd.concat((df, df1), axis=1)\n",
    "df.drop('BP', axis=1, inplace = True)\n",
    "df.rename({'HIGH' : \"BP_High\", 'LOW': 'BP_Low', 'Normal': 'BP_Normal'}, axis = 1, inplace = True)\n",
    "df.head()"
   ]
  },
  {
   "cell_type": "markdown",
   "id": "09f5b0ad",
   "metadata": {},
   "source": [
    "## Decision Tree and Random Forest Machine Learning Model"
   ]
  },
  {
   "cell_type": "code",
   "execution_count": 33,
   "id": "9b040f1c",
   "metadata": {},
   "outputs": [],
   "source": [
    "X= df.drop('Drug', axis =1)\n",
    "y= df['Drug']"
   ]
  },
  {
   "cell_type": "code",
   "execution_count": 34,
   "id": "a04713a8",
   "metadata": {},
   "outputs": [],
   "source": [
    "from sklearn.model_selection import train_test_split\n",
    "X_train, X_test, y_train, y_test = train_test_split(X, y, random_state=42, test_size=0.33)"
   ]
  },
  {
   "cell_type": "code",
   "execution_count": 35,
   "id": "8b8a1564",
   "metadata": {},
   "outputs": [],
   "source": [
    "from sklearn.tree import DecisionTreeClassifier, plot_tree\n",
    "from sklearn.metrics import accuracy_score\n",
    "DT = DecisionTreeClassifier()\n",
    "DT.fit(X_train, y_train)\n",
    "pred_data = DT.predict(X_test)"
   ]
  },
  {
   "cell_type": "code",
   "execution_count": 36,
   "id": "fb3a0fa7",
   "metadata": {},
   "outputs": [
    {
     "data": {
      "text/plain": [
       "1.0"
      ]
     },
     "execution_count": 36,
     "metadata": {},
     "output_type": "execute_result"
    }
   ],
   "source": [
    "accuracy_score(y_test, pred_data)"
   ]
  },
  {
   "cell_type": "code",
   "execution_count": 37,
   "id": "a0a86e32",
   "metadata": {
    "scrolled": true
   },
   "outputs": [
    {
     "data": {
      "text/plain": [
       "1.0"
      ]
     },
     "execution_count": 37,
     "metadata": {},
     "output_type": "execute_result"
    }
   ],
   "source": [
    "Pred_train = DT.predict(X_train)\n",
    "accuracy_score(y_train, Pred_train)"
   ]
  },
  {
   "cell_type": "code",
   "execution_count": 38,
   "id": "2dd363ed",
   "metadata": {},
   "outputs": [
    {
     "name": "stdout",
     "output_type": "stream",
     "text": [
      "              precision    recall  f1-score   support\n",
      "\n",
      "       drugA       1.00      1.00      1.00         8\n",
      "       drugB       1.00      1.00      1.00         4\n",
      "       drugC       1.00      1.00      1.00         6\n",
      "       drugX       1.00      1.00      1.00        19\n",
      "       drugY       1.00      1.00      1.00        29\n",
      "\n",
      "    accuracy                           1.00        66\n",
      "   macro avg       1.00      1.00      1.00        66\n",
      "weighted avg       1.00      1.00      1.00        66\n",
      "\n"
     ]
    }
   ],
   "source": [
    "from sklearn.metrics import classification_report\n",
    "print(classification_report(y_test, pred_data))"
   ]
  },
  {
   "cell_type": "code",
   "execution_count": 39,
   "id": "16e257c2",
   "metadata": {},
   "outputs": [
    {
     "data": {
      "text/plain": [
       "array([[ 8,  0,  0,  0,  0],\n",
       "       [ 0,  4,  0,  0,  0],\n",
       "       [ 0,  0,  6,  0,  0],\n",
       "       [ 0,  0,  0, 19,  0],\n",
       "       [ 0,  0,  0,  0, 29]], dtype=int64)"
      ]
     },
     "execution_count": 39,
     "metadata": {},
     "output_type": "execute_result"
    }
   ],
   "source": [
    "from sklearn.metrics import confusion_matrix\n",
    "confusion_matrix(y_test, pred_data)"
   ]
  },
  {
   "cell_type": "code",
   "execution_count": 40,
   "id": "79c3ada9",
   "metadata": {},
   "outputs": [
    {
     "data": {
      "text/plain": [
       "Text(0.5, 1.0, 'Accuracy score: 1.0')"
      ]
     },
     "execution_count": 40,
     "metadata": {},
     "output_type": "execute_result"
    },
    {
     "data": {
      "image/png": "[encoded data removed]",
      "text/plain": [
       "<Figure size 500x500 with 2 Axes>"
      ]
     },
     "metadata": {},
     "output_type": "display_data"
    }
   ],
   "source": [
    "cm=confusion_matrix(y_test, pred_data)\n",
    "plt.figure(figsize=(5,5))\n",
    "sns.heatmap(cm,square=True,cmap='Blues',linewidth=0.5,annot=True)\n",
    "plt.xlabel('Actual Value')\n",
    "plt.ylabel('Predicted value')\n",
    "title='Accuracy score: {0}'.format(accuracy_score(y_test, pred_data))\n",
    "plt.title(title,size=15)"
   ]
  },
  {
   "cell_type": "code",
   "execution_count": 41,
   "id": "bccb3e4e",
   "metadata": {},
   "outputs": [
    {
     "data": {
      "image/png": "[encoded data removed]",
      "text/plain": [
       "<Figure size 800x500 with 1 Axes>"
      ]
     },
     "metadata": {},
     "output_type": "display_data"
    }
   ],
   "source": [
    "tree = plot_tree(decision_tree=DT, class_names=['DrugA','DrugB','DrugC','DrugX','DrugY'], rounded=True,filled=True, precision=True)"
   ]
  },
  {
   "cell_type": "markdown",
   "id": "b323ac62",
   "metadata": {},
   "source": [
    "## we see Gini is more than 0.5, this is due to multi-class"
   ]
  },
  {
   "cell_type": "code",
   "execution_count": 42,
   "id": "9e3136e2",
   "metadata": {
    "scrolled": true
   },
   "outputs": [
    {
     "data": {
      "text/html": [
       "<div>\n",
       "<style scoped>\n",
       "    .dataframe tbody tr th:only-of-type {\n",
       "        vertical-align: middle;\n",
       "    }\n",
       "\n",
       "    .dataframe tbody tr th {\n",
       "        vertical-align: top;\n",
       "    }\n",
       "\n",
       "    .dataframe thead th {\n",
       "        text-align: right;\n",
       "    }\n",
       "</style>\n",
       "<table border=\"1\" class=\"dataframe\">\n",
       "  <thead>\n",
       "    <tr style=\"text-align: right;\">\n",
       "      <th></th>\n",
       "      <th>Age</th>\n",
       "      <th>Sex</th>\n",
       "      <th>Cholesterol</th>\n",
       "      <th>Na_to_K</th>\n",
       "      <th>Drug</th>\n",
       "      <th>BP_High</th>\n",
       "      <th>BP_Low</th>\n",
       "      <th>NORMAL</th>\n",
       "    </tr>\n",
       "  </thead>\n",
       "  <tbody>\n",
       "    <tr>\n",
       "      <th>0</th>\n",
       "      <td>23</td>\n",
       "      <td>0</td>\n",
       "      <td>0</td>\n",
       "      <td>25.355</td>\n",
       "      <td>drugY</td>\n",
       "      <td>1</td>\n",
       "      <td>0</td>\n",
       "      <td>0</td>\n",
       "    </tr>\n",
       "    <tr>\n",
       "      <th>1</th>\n",
       "      <td>47</td>\n",
       "      <td>1</td>\n",
       "      <td>0</td>\n",
       "      <td>13.093</td>\n",
       "      <td>drugC</td>\n",
       "      <td>0</td>\n",
       "      <td>1</td>\n",
       "      <td>0</td>\n",
       "    </tr>\n",
       "    <tr>\n",
       "      <th>2</th>\n",
       "      <td>47</td>\n",
       "      <td>1</td>\n",
       "      <td>0</td>\n",
       "      <td>10.114</td>\n",
       "      <td>drugC</td>\n",
       "      <td>0</td>\n",
       "      <td>1</td>\n",
       "      <td>0</td>\n",
       "    </tr>\n",
       "    <tr>\n",
       "      <th>3</th>\n",
       "      <td>28</td>\n",
       "      <td>0</td>\n",
       "      <td>0</td>\n",
       "      <td>7.798</td>\n",
       "      <td>drugX</td>\n",
       "      <td>0</td>\n",
       "      <td>0</td>\n",
       "      <td>1</td>\n",
       "    </tr>\n",
       "    <tr>\n",
       "      <th>4</th>\n",
       "      <td>61</td>\n",
       "      <td>0</td>\n",
       "      <td>0</td>\n",
       "      <td>18.043</td>\n",
       "      <td>drugY</td>\n",
       "      <td>0</td>\n",
       "      <td>1</td>\n",
       "      <td>0</td>\n",
       "    </tr>\n",
       "  </tbody>\n",
       "</table>\n",
       "</div>"
      ],
      "text/plain": [
       "   Age  Sex  Cholesterol  Na_to_K   Drug  BP_High  BP_Low  NORMAL\n",
       "0   23    0            0   25.355  drugY        1       0       0\n",
       "1   47    1            0   13.093  drugC        0       1       0\n",
       "2   47    1            0   10.114  drugC        0       1       0\n",
       "3   28    0            0    7.798  drugX        0       0       1\n",
       "4   61    0            0   18.043  drugY        0       1       0"
      ]
     },
     "execution_count": 42,
     "metadata": {},
     "output_type": "execute_result"
    }
   ],
   "source": [
    "df.head()"
   ]
  },
  {
   "cell_type": "code",
   "execution_count": 43,
   "id": "1badc325",
   "metadata": {},
   "outputs": [],
   "source": [
    "df['Drug'] = encoder.fit_transform(df['Drug'])"
   ]
  },
  {
   "cell_type": "markdown",
   "id": "eec6765a",
   "metadata": {},
   "source": [
    "### Logistics Regression ML Model"
   ]
  },
  {
   "cell_type": "code",
   "execution_count": 44,
   "id": "52b81952",
   "metadata": {},
   "outputs": [
    {
     "name": "stdout",
     "output_type": "stream",
     "text": [
      "Accuracy (OvR): 0.9090909090909091\n"
     ]
    }
   ],
   "source": [
    "from sklearn.linear_model import LogisticRegression\n",
    "# Using One-vs-Rest (OvR) logistic regression\n",
    "ovr_classifier = LogisticRegression(multi_class='ovr', solver='liblinear')\n",
    "ovr_classifier.fit(X_train, y_train)\n",
    "ovr_predictions = ovr_classifier.predict(X_test)\n",
    "ovr_accuracy = accuracy_score(y_test, ovr_predictions)\n",
    "print(\"Accuracy (OvR):\", ovr_accuracy)\n",
    "\n"
   ]
  },
  {
   "cell_type": "code",
   "execution_count": 45,
   "id": "c3b91294",
   "metadata": {},
   "outputs": [
    {
     "name": "stdout",
     "output_type": "stream",
     "text": [
      "Accuracy (OvR): 0.9090909090909091\n"
     ]
    }
   ],
   "source": [
    "# Using One-vs-Rest (OvR) logistic regression\n",
    "ovr_classifier = LogisticRegression(multi_class='ovr', solver='liblinear')\n",
    "ovr_classifier.fit(X_train, y_train)\n",
    "ovr_predictions = ovr_classifier.predict(X_test)\n",
    "ovr_accuracy = accuracy_score(y_test, ovr_predictions)\n",
    "print(\"Accuracy (OvR):\", ovr_accuracy)"
   ]
  },
  {
   "cell_type": "code",
   "execution_count": 46,
   "id": "e970c59a",
   "metadata": {},
   "outputs": [
    {
     "name": "stdout",
     "output_type": "stream",
     "text": [
      "Accuracy (Softmax): 0.9090909090909091\n"
     ]
    }
   ],
   "source": [
    "# Using Softmax Regression (Multinomial Logistic Regression)\n",
    "softmax_classifier = LogisticRegression(multi_class='multinomial', solver='lbfgs')\n",
    "softmax_classifier.fit(X_train, y_train)\n",
    "softmax_predictions = softmax_classifier.predict(X_test)\n",
    "softmax_accuracy = accuracy_score(y_test, softmax_predictions)\n",
    "print(\"Accuracy (Softmax):\", softmax_accuracy)"
   ]
  },
  {
   "cell_type": "markdown",
   "id": "2235af6a",
   "metadata": {},
   "source": [
    "### Support Vector Machines (SVC) ML Model"
   ]
  },
  {
   "cell_type": "code",
   "execution_count": 47,
   "id": "db5ae42d",
   "metadata": {},
   "outputs": [
    {
     "name": "stdout",
     "output_type": "stream",
     "text": [
      "With Linear kernel, Accuracy: 0.9848484848484849\n"
     ]
    }
   ],
   "source": [
    "from sklearn.svm import SVC\n",
    "# Create an SVC classifier\n",
    "clf = SVC(kernel='linear')  # You can choose different kernels\n",
    "\n",
    "# Fit the model to the training data\n",
    "clf.fit(X_train, y_train)\n",
    "\n",
    "# Make predictions on the test data\n",
    "y_pred = clf.predict(X_test)\n",
    "\n",
    "# Evaluate the model\n",
    "accuracy = accuracy_score(y_test, y_pred)\n",
    "print(\"With Linear kernel, Accuracy:\", accuracy)"
   ]
  },
  {
   "cell_type": "code",
   "execution_count": 48,
   "id": "7141288b",
   "metadata": {},
   "outputs": [
    {
     "name": "stdout",
     "output_type": "stream",
     "text": [
      "With rbf kernel, Accuracy: 0.7272727272727273\n"
     ]
    }
   ],
   "source": [
    "# Create an SVC classifier\n",
    "clf = SVC(kernel='rbf')  # You can choose different kernels\n",
    "\n",
    "# Fit the model to the training data\n",
    "clf.fit(X_train, y_train)\n",
    "\n",
    "# Make predictions on the test data\n",
    "y_pred = clf.predict(X_test)\n",
    "\n",
    "# Evaluate the model\n",
    "accuracy = accuracy_score(y_test, y_pred)\n",
    "print(\"With rbf kernel, Accuracy:\", accuracy)"
   ]
  },
  {
   "cell_type": "code",
   "execution_count": 49,
   "id": "0ea2541d",
   "metadata": {},
   "outputs": [
    {
     "name": "stdout",
     "output_type": "stream",
     "text": [
      "With poly kernel, Accuracy: 0.6515151515151515\n"
     ]
    }
   ],
   "source": [
    "# Create an SVC classifier\n",
    "clf = SVC(kernel='poly')  # You can choose different kernels\n",
    "\n",
    "# Fit the model to the training data\n",
    "clf.fit(X_train, y_train)\n",
    "\n",
    "# Make predictions on the test data\n",
    "y_pred = clf.predict(X_test)\n",
    "\n",
    "# Evaluate the model\n",
    "accuracy = accuracy_score(y_test, y_pred)\n",
    "print(\"With poly kernel, Accuracy:\", accuracy)"
   ]
  },
  {
   "cell_type": "code",
   "execution_count": 50,
   "id": "92d3513c",
   "metadata": {},
   "outputs": [
    {
     "name": "stdout",
     "output_type": "stream",
     "text": [
      "With sigmoid kernel, Accuracy: 0.4090909090909091\n"
     ]
    }
   ],
   "source": [
    "# Create an SVC classifier\n",
    "clf = SVC(kernel='sigmoid')  # You can choose different kernels\n",
    "\n",
    "# Fit the model to the training data\n",
    "clf.fit(X_train, y_train)\n",
    "\n",
    "# Make predictions on the test data\n",
    "y_pred = clf.predict(X_test)\n",
    "\n",
    "# Evaluate the model\n",
    "accuracy = accuracy_score(y_test, y_pred)\n",
    "print(\"With sigmoid kernel, Accuracy:\", accuracy)"
   ]
  },
  {
   "cell_type": "markdown",
   "id": "3ff3984f",
   "metadata": {},
   "source": [
    "### We are getting best results and predictions by using Decision Tree ML model, There could be a reason that due to small dataset it is givinging higher accuracy."
   ]
  },
  {
   "cell_type": "markdown",
   "id": "f9105e85",
   "metadata": {},
   "source": [
    "  "
   ]
  }
 ],
 "metadata": {
  "kernelspec": {
   "display_name": "Python 3 (ipykernel)",
   "language": "python",
   "name": "python3"
  },
  "language_info": {
   "codemirror_mode": {
    "name": "ipython",
    "version": 3
   },
   "file_extension": ".py",
   "mimetype": "text/x-python",
   "name": "python",
   "nbconvert_exporter": "python",
   "pygments_lexer": "ipython3",
   "version": "3.11.4"
  }
 },
 "nbformat": 4,
 "nbformat_minor": 5
}
